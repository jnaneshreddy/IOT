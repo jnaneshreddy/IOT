{
 "cells": [
  {
   "cell_type": "code",
   "execution_count": 1,
   "id": "47553164",
   "metadata": {},
   "outputs": [
    {
     "name": "stdout",
     "output_type": "stream",
     "text": [
      "Hello hi\n"
     ]
    }
   ],
   "source": [
    "name=input (\"enter your name\") \n",
    "print(\"Hello\",name)"
   ]
  },
  {
   "cell_type": "code",
   "execution_count": 2,
   "id": "3c04893a",
   "metadata": {},
   "outputs": [
    {
     "name": "stdout",
     "output_type": "stream",
     "text": [
      "sum is: 3\n",
      "sub is: -1\n",
      "mult is: 2\n",
      "div is: 0.5\n"
     ]
    }
   ],
   "source": [
    "a=int(input(\"enter the value of a:\")) \n",
    "b=int(input(\"enter the value of b:\")) \n",
    "print(\"sum is:\",a+b) \n",
    "print(\"sub is:\",a-b) \n",
    "print(\"mult is:\",a*b) \n",
    "print(\"div is:\",a/b)"
   ]
  },
  {
   "cell_type": "code",
   "execution_count": 3,
   "id": "85e6ca24",
   "metadata": {},
   "outputs": [
    {
     "name": "stdout",
     "output_type": "stream",
     "text": [
      "enter a sentence\n",
      "total no of words in a sentence : 0\n",
      "total no of character in a sentence : 0\n",
      "total no of character in the sentence including space are: -1\n"
     ]
    }
   ],
   "source": [
    "print(\"enter a sentence\") \n",
    "sen=input() \n",
    "words=sen.split() \n",
    "word_count=0 \n",
    "char_count=0 \n",
    "for word in words: \n",
    "    word_count+=1 ``\n",
    "    char_count+=len(words) \n",
    "print(\"total no of words in a sentence :\",word_count) \n",
    "print(\"total no of character in a sentence :\",char_count) \n",
    "print(\"total no of character in the sentence including space are:\",char_count+word_count-1)"
   ]
  },
  {
   "cell_type": "code",
   "execution_count": null,
   "id": "eeff8b47",
   "metadata": {},
   "outputs": [],
   "source": [
    "while True: \n",
    "print(\"******************************\") \n",
    "print(\"select type shape\") \n",
    "print(\"\"\" \n",
    "1.rectangle \n",
    "2.triangle \n",
    "3.circle \n",
    "4.exit\"\"\") \n",
    "ch=input() \n",
    "if(ch=='1'): \n",
    "print(\"enter width of rectangle\") \n",
    "w=int(input()) \n",
    "print(\"enter length of rectangle\") \n",
    "h=int(input()) \n",
    "area=h*w \n",
    "print(\"the area of rectangle is=\",area) \n",
    "continue \n",
    "elif(ch=='2'): \n",
    "print(\"enter base of triangle\") \n",
    "b=int(input()) \n",
    "print(\"enter height of triangle\") \n",
    "h=int(input()) \n",
    "areat=0.5*b*h \n",
    "print(\"the area of triangle is=\",areat) \n",
    "continue \n",
    "elif(ch=='3'): \n",
    "print(\"enter radius\") \n",
    "r=int(input()) \n",
    "areac=3.142*r*r \n",
    "print(\"the area of circle is=\",areac) \n",
    "continue\n",
    "elif(ch=='4'): \n",
    "break \n",
    "else: \n",
    "exit(0) \n",
    "print(\"invalid choice\") \n",
    "continue \n",
    "print(\"thank you\") "
   ]
  },
  {
   "cell_type": "code",
   "execution_count": null,
   "id": "054d0f20",
   "metadata": {},
   "outputs": [],
   "source": [
    "while True: \n",
    "print(\"enter your choice from menu:\") \n",
    "print(\"1.while loop \\n 2.for loop\\n 3.exit\") \n",
    "choice=input() \n",
    "if (choice=='1'): \n",
    "name=str(input(\"enter a name:\")) \n",
    "n=int(input(\"enter the number\")) \n",
    "i=0 \n",
    "while i<n: \n",
    "print(name) \n",
    "i=i+1 \n",
    "elif(choice=='2'): \n",
    "name=str(input(\"enter a name:\")) \n",
    "n=int(input(\"enter the number\")) \n",
    "for i in range(n): \n",
    "    print(name) \n",
    "else: \n",
    "    break"
   ]
  },
  {
   "cell_type": "code",
   "execution_count": null,
   "id": "3774a105",
   "metadata": {},
   "outputs": [],
   "source": [
    "print(\"enter the numerator value :\") \n",
    "num1=int(input()) \n",
    "print(\"enter the denominator value:\") \n",
    "num2=int(input()) \n",
    "try: \n",
    "result=num1/num2\n",
    "print(\"the division of given number is :\",result) \n",
    "except ZeroDivisionError: \n",
    "print(\"divide by zero error. the denominator should not be zero\") "
   ]
  },
  {
   "cell_type": "code",
   "execution_count": null,
   "id": "e09ed680",
   "metadata": {},
   "outputs": [],
   "source": [
    "import time \n",
    "for i in range(10): \n",
    "second=time.time() \n",
    "local_time=time.ctime(second) \n",
    "print(\"local_time\",local_time) \n",
    "time.sleep(10) "
   ]
  },
  {
   "cell_type": "code",
   "execution_count": null,
   "id": "37166f13",
   "metadata": {},
   "outputs": [],
   "source": [
    "f1=open('txt.txt','r') \n",
    "lines=f1.readlines() \n",
    "i=0 \n",
    "for line in lines: \n",
    "i+=1 \n",
    "count=len(line.split()) \n",
    "print(\"line\",i,\"no of words\",count)"
   ]
  }
 ],
 "metadata": {
  "kernelspec": {
   "display_name": "Python 3",
   "language": "python",
   "name": "python3"
  },
  "language_info": {
   "codemirror_mode": {
    "name": "ipython",
    "version": 3
   },
   "file_extension": ".py",
   "mimetype": "text/x-python",
   "name": "python",
   "nbconvert_exporter": "python",
   "pygments_lexer": "ipython3",
   "version": "3.10.0rc2"
  }
 },
 "nbformat": 4,
 "nbformat_minor": 5
}
